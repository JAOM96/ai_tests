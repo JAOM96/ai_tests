{
 "cells": [
  {
   "cell_type": "markdown",
   "id": "1b5b3ae5",
   "metadata": {},
   "source": [
    "Ejemplo de KNN"
   ]
  },
  {
   "cell_type": "markdown",
   "id": "a3f781e6",
   "metadata": {},
   "source": [
    "Carga del dataset"
   ]
  },
  {
   "cell_type": "code",
   "execution_count": 3,
   "id": "15edc6cc",
   "metadata": {},
   "outputs": [
    {
     "name": "stdout",
     "output_type": "stream",
     "text": [
      "features: (150, 4)\n",
      "labels: (150,)\n",
      "first 5 features:\n",
      " [[5.1 3.5 1.4 0.2]\n",
      " [4.9 3.  1.4 0.2]\n",
      " [4.7 3.2 1.3 0.2]\n",
      " [4.6 3.1 1.5 0.2]\n",
      " [5.  3.6 1.4 0.2]]\n",
      "first 5 labels:\n",
      " [0 0 0 0 0]\n"
     ]
    }
   ],
   "source": [
    "from sklearn.datasets import load_iris\n",
    "X,y = load_iris(return_X_y=True)\n",
    "\n",
    "print(\"features:\", X.shape)\n",
    "print(\"labels:\", y.shape)\n",
    "print(\"first 5 features:\\n\", X[:5])\n",
    "print(\"first 5 labels:\\n\", y[:5])"
   ]
  },
  {
   "cell_type": "markdown",
   "id": "33c4507d",
   "metadata": {},
   "source": [
    "Entrenamiento de un modelo KNN"
   ]
  },
  {
   "cell_type": "code",
   "execution_count": null,
   "id": "296f6d7e",
   "metadata": {},
   "outputs": [],
   "source": []
  }
 ],
 "metadata": {
  "kernelspec": {
   "display_name": ".venv",
   "language": "python",
   "name": "python3"
  },
  "language_info": {
   "codemirror_mode": {
    "name": "ipython",
    "version": 3
   },
   "file_extension": ".py",
   "mimetype": "text/x-python",
   "name": "python",
   "nbconvert_exporter": "python",
   "pygments_lexer": "ipython3",
   "version": "3.12.10"
  }
 },
 "nbformat": 4,
 "nbformat_minor": 5
}
